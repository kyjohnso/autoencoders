{
 "cells": [
  {
   "cell_type": "code",
   "execution_count": 1,
   "metadata": {},
   "outputs": [
    {
     "name": "stderr",
     "output_type": "stream",
     "text": [
      "Using TensorFlow backend.\n"
     ]
    },
    {
     "name": "stdout",
     "output_type": "stream",
     "text": [
      "WARNING:tensorflow:From /usr/local/lib/python3.6/dist-packages/tensorflow/python/framework/op_def_library.py:263: colocate_with (from tensorflow.python.framework.ops) is deprecated and will be removed in a future version.\n",
      "Instructions for updating:\n",
      "Colocations handled automatically by placer.\n",
      "_________________________________________________________________\n",
      "Layer (type)                 Output Shape              Param #   \n",
      "=================================================================\n",
      "input_1 (InputLayer)         (None, 1024, 1)           0         \n",
      "_________________________________________________________________\n",
      "flatten_1 (Flatten)          (None, 1024)              0         \n",
      "_________________________________________________________________\n",
      "dense_1 (Dense)              (None, 1024)              1049600   \n",
      "_________________________________________________________________\n",
      "dense_2 (Dense)              (None, 1024)              1049600   \n",
      "_________________________________________________________________\n",
      "dense_3 (Dense)              (None, 1024)              1049600   \n",
      "_________________________________________________________________\n",
      "dense_4 (Dense)              (None, 1024)              1049600   \n",
      "_________________________________________________________________\n",
      "reshape_1 (Reshape)          (None, 1024, 1)           0         \n",
      "=================================================================\n",
      "Total params: 4,198,400\n",
      "Trainable params: 4,198,400\n",
      "Non-trainable params: 0\n",
      "_________________________________________________________________\n",
      "_________________________________________________________________\n",
      "Layer (type)                 Output Shape              Param #   \n",
      "=================================================================\n",
      "input_2 (InputLayer)         (None, 1024, 1)           0         \n",
      "_________________________________________________________________\n",
      "flatten_2 (Flatten)          (None, 1024)              0         \n",
      "_________________________________________________________________\n",
      "dense_5 (Dense)              (None, 1024)              1049600   \n",
      "_________________________________________________________________\n",
      "dense_6 (Dense)              (None, 1024)              1049600   \n",
      "_________________________________________________________________\n",
      "dense_7 (Dense)              (None, 1024)              1049600   \n",
      "_________________________________________________________________\n",
      "dense_8 (Dense)              (None, 1024)              1049600   \n",
      "_________________________________________________________________\n",
      "reshape_2 (Reshape)          (None, 1024, 1)           0         \n",
      "=================================================================\n",
      "Total params: 4,198,400\n",
      "Trainable params: 4,198,400\n",
      "Non-trainable params: 0\n",
      "_________________________________________________________________\n",
      "_________________________________________________________________\n",
      "Layer (type)                 Output Shape              Param #   \n",
      "=================================================================\n",
      "input_1 (InputLayer)         (None, 1024, 1)           0         \n",
      "_________________________________________________________________\n",
      "model_1 (Model)              (None, 1024, 1)           4198400   \n",
      "_________________________________________________________________\n",
      "model_2 (Model)              (None, 1024, 1)           4198400   \n",
      "=================================================================\n",
      "Total params: 8,396,800\n",
      "Trainable params: 4,198,400\n",
      "Non-trainable params: 4,198,400\n",
      "_________________________________________________________________\n"
     ]
    }
   ],
   "source": [
    "import numpy as np\n",
    "from keras.layers import Dense, Input, Flatten, Reshape\n",
    "from keras.losses import mse, mae, binary_crossentropy\n",
    "from keras.models import Model\n",
    "from keras.optimizers import Adam\n",
    "\n",
    "def settrainable(model, toset):\n",
    "    for layer in model.layers:\n",
    "        layer.trainable = toset\n",
    "    model.trainable = toset\n",
    "\n",
    "input_shape=(1024,1)\n",
    "layers = 4\n",
    "latent = 1024\n",
    "\n",
    "inputs = Input(shape=input_shape)\n",
    "x = Flatten()(inputs)\n",
    "\n",
    "for ilayer in range(layers):\n",
    "    x = Dense(latent,activation='relu')(x)\n",
    "\n",
    "outputs = Reshape(input_shape)(x)\n",
    "model1 = Model(inputs,outputs)\n",
    "model1.compile(optimizer=Adam(lr=1e-4), loss=\"binary_crossentropy\")\n",
    "model1.summary()\n",
    "\n",
    "inputs2 = Input(shape=input_shape)\n",
    "x = Flatten()(inputs2)\n",
    "\n",
    "for ilayer in range(layers):\n",
    "    x = Dense(latent,activation='relu')(x)\n",
    "\n",
    "outputs2 = Reshape(input_shape)(x)\n",
    "model2 = Model(inputs2,outputs2)\n",
    "model2.compile(optimizer=Adam(lr=1e-4), loss=\"binary_crossentropy\")\n",
    "model2.summary()\n",
    "\n",
    "settrainable(model1,True)\n",
    "settrainable(model2,False)\n",
    "outputs3 = model2(model1(inputs))\n",
    "model3 = Model(inputs,outputs3)\n",
    "model3.compile(optimizer=Adam(lr=1e-4), loss=\"binary_crossentropy\")\n",
    "model3.summary()"
   ]
  },
  {
   "cell_type": "code",
   "execution_count": 2,
   "metadata": {},
   "outputs": [],
   "source": [
    "# make sure the layers are the same between the individual models and the composite model\n",
    "assert (model3.layers[1].layers[2].get_weights()[0] == model1.layers[2].get_weights()[0]).all()\n",
    "assert (model3.layers[2].layers[2].get_weights()[0] == model2.layers[2].get_weights()[0]).all()\n",
    "# store the weights for the models before we train\n",
    "wm1 = model3.layers[1].layers[2].get_weights()[0]\n",
    "wm2 = model3.layers[2].layers[2].get_weights()[0]\n",
    "wm2_2 = model2.layers[2].get_weights()[0]\n",
    "assert (wm2_2 == wm2).all()"
   ]
  },
  {
   "cell_type": "code",
   "execution_count": 3,
   "metadata": {},
   "outputs": [],
   "source": [
    "input_data = np.random.uniform(0,1,(10000,1024,1))\n",
    "intermediate_data = np.random.uniform(0,1,(10000,1024,1))\n",
    "output_data = np.random.uniform(0,1,(10000,1024,1))"
   ]
  },
  {
   "cell_type": "code",
   "execution_count": 4,
   "metadata": {},
   "outputs": [
    {
     "name": "stdout",
     "output_type": "stream",
     "text": [
      "WARNING:tensorflow:From /usr/local/lib/python3.6/dist-packages/tensorflow/python/ops/math_ops.py:3066: to_int32 (from tensorflow.python.ops.math_ops) is deprecated and will be removed in a future version.\n",
      "Instructions for updating:\n",
      "Use tf.cast instead.\n",
      "Epoch 1/2\n",
      "10000/10000 [==============================] - 16s 2ms/step - loss: 3.9862\n",
      "Epoch 2/2\n",
      "10000/10000 [==============================] - 16s 2ms/step - loss: 3.5987\n"
     ]
    },
    {
     "data": {
      "text/plain": [
       "<keras.callbacks.History at 0x7fb1d4306a58>"
      ]
     },
     "execution_count": 4,
     "metadata": {},
     "output_type": "execute_result"
    }
   ],
   "source": [
    "model3.fit(input_data,output_data,epochs=2)"
   ]
  },
  {
   "cell_type": "code",
   "execution_count": 5,
   "metadata": {},
   "outputs": [],
   "source": [
    "# make sure that the layers are still the same between the individual models and the composite model\n",
    "assert (model3.layers[1].layers[2].get_weights()[0] == model1.layers[2].get_weights()[0]).all()\n",
    "assert (model3.layers[2].layers[2].get_weights()[0] == model2.layers[2].get_weights()[0]).all()\n",
    "# make sure that the weights changed for model1\n",
    "assert not (model3.layers[1].layers[2].get_weights()[0] == wm1).all()\n",
    "# make sure that the weights did not change for model2\n",
    "assert (model3.layers[2].layers[2].get_weights()[0] == wm2).all()"
   ]
  },
  {
   "cell_type": "code",
   "execution_count": 6,
   "metadata": {},
   "outputs": [
    {
     "name": "stderr",
     "output_type": "stream",
     "text": [
      "/usr/local/lib/python3.6/dist-packages/keras/engine/training.py:490: UserWarning: Discrepancy between trainable weights and collected trainable weights, did you set `model.trainable` without calling `model.compile` after ?\n",
      "  'Discrepancy between trainable weights and collected trainable'\n"
     ]
    },
    {
     "name": "stdout",
     "output_type": "stream",
     "text": [
      "Epoch 1/2\n",
      "10000/10000 [==============================] - 13s 1ms/step - loss: 1.5606\n",
      "Epoch 2/2\n",
      "10000/10000 [==============================] - 13s 1ms/step - loss: 1.3328\n"
     ]
    },
    {
     "data": {
      "text/plain": [
       "<keras.callbacks.History at 0x7fb1d43ca668>"
      ]
     },
     "execution_count": 6,
     "metadata": {},
     "output_type": "execute_result"
    }
   ],
   "source": [
    "model2.fit(input_data,output_data,epochs=2)"
   ]
  },
  {
   "cell_type": "code",
   "execution_count": 7,
   "metadata": {},
   "outputs": [],
   "source": [
    "# make sure that the layers between model3 and model2 are still the same\n",
    "assert (model3.layers[2].layers[2].get_weights()[0] == model2.layers[2].get_weights()[0]).all()\n",
    "# make sure that the weights for model2 changed\n",
    "assert not (model3.layers[2].layers[2].get_weights()[0] == wm2).all()"
   ]
  },
  {
   "cell_type": "code",
   "execution_count": 9,
   "metadata": {},
   "outputs": [],
   "source": [
    "wm2_3 = model2.layers[2].get_weights()[0]"
   ]
  },
  {
   "cell_type": "code",
   "execution_count": 10,
   "metadata": {},
   "outputs": [
    {
     "name": "stdout",
     "output_type": "stream",
     "text": [
      "Epoch 1/2\n",
      "10000/10000 [==============================] - 16s 2ms/step - loss: 1.3407\n",
      "Epoch 2/2\n",
      "10000/10000 [==============================] - 16s 2ms/step - loss: 1.3075\n"
     ]
    },
    {
     "data": {
      "text/plain": [
       "<keras.callbacks.History at 0x7fb170271518>"
      ]
     },
     "execution_count": 10,
     "metadata": {},
     "output_type": "execute_result"
    }
   ],
   "source": [
    "model3.fit(input_data,output_data,epochs=2)"
   ]
  },
  {
   "cell_type": "code",
   "execution_count": 12,
   "metadata": {},
   "outputs": [],
   "source": [
    "# make sure that when we train model3 the layer2 weights don't change\n",
    "assert (wm2_3 == model2.layers[2].get_weights()[0]).all()\n",
    "# make sure that the weights are still the same between the initial models and the composite model\n",
    "assert (model3.layers[1].layers[3].get_weights()[0] == model1.layers[3].get_weights()[0]).all()\n",
    "assert (model3.layers[2].layers[3].get_weights()[0] == model2.layers[3].get_weights()[0]).all()"
   ]
  }
 ],
 "metadata": {
  "kernelspec": {
   "display_name": "Python 3",
   "language": "python",
   "name": "python3"
  },
  "language_info": {
   "codemirror_mode": {
    "name": "ipython",
    "version": 3
   },
   "file_extension": ".py",
   "mimetype": "text/x-python",
   "name": "python",
   "nbconvert_exporter": "python",
   "pygments_lexer": "ipython3",
   "version": "3.6.8"
  }
 },
 "nbformat": 4,
 "nbformat_minor": 2
}
