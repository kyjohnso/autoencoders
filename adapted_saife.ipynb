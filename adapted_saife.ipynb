{
 "cells": [
  {
   "cell_type": "code",
   "execution_count": 28,
   "metadata": {},
   "outputs": [],
   "source": [
    "import numpy as np\n",
    "from keras.layers import (Lambda, Input, Reshape,\n",
    "                          Dense, UpSampling2D,\n",
    "                          Conv2D, Concatenate,\n",
    "                          Flatten, MaxPool2D,)\n",
    "from keras.losses import mse, mae, binary_crossentropy\n",
    "from keras.models import Model\n",
    "from keras.optimizers import Adam\n",
    "from sklearn.model_selection import train_test_split\n",
    "\n",
    "import keras.backend as K"
   ]
  },
  {
   "cell_type": "code",
   "execution_count": 6,
   "metadata": {},
   "outputs": [],
   "source": [
    "def settrainable(model, toset):\n",
    "    for layer in model.layers:\n",
    "        layer.trainable = toset\n",
    "    model.trainable = toset"
   ]
  },
  {
   "cell_type": "code",
   "execution_count": 20,
   "metadata": {},
   "outputs": [
    {
     "name": "stdout",
     "output_type": "stream",
     "text": [
      "__________________________________________________________________________________________________\n",
      "Layer (type)                    Output Shape         Param #     Connected to                     \n",
      "==================================================================================================\n",
      "input_13 (InputLayer)           (None, 256, 8, 1)    0                                            \n",
      "__________________________________________________________________________________________________\n",
      "conv2d_28 (Conv2D)              (None, 256, 8, 32)   320         input_13[0][0]                   \n",
      "__________________________________________________________________________________________________\n",
      "max_pooling2d_21 (MaxPooling2D) (None, 128, 4, 32)   0           conv2d_28[0][0]                  \n",
      "__________________________________________________________________________________________________\n",
      "conv2d_29 (Conv2D)              (None, 128, 4, 32)   9248        max_pooling2d_21[0][0]           \n",
      "__________________________________________________________________________________________________\n",
      "max_pooling2d_22 (MaxPooling2D) (None, 64, 2, 32)    0           conv2d_29[0][0]                  \n",
      "__________________________________________________________________________________________________\n",
      "conv2d_30 (Conv2D)              (None, 64, 2, 32)    9248        max_pooling2d_22[0][0]           \n",
      "__________________________________________________________________________________________________\n",
      "max_pooling2d_23 (MaxPooling2D) (None, 32, 1, 32)    0           conv2d_30[0][0]                  \n",
      "__________________________________________________________________________________________________\n",
      "flatten_9 (Flatten)             (None, 1024)         0           max_pooling2d_23[0][0]           \n",
      "__________________________________________________________________________________________________\n",
      "features (Dense)                (None, 50)           51250       flatten_9[0][0]                  \n",
      "__________________________________________________________________________________________________\n",
      "classes (Dense)                 (None, 8)            8200        flatten_9[0][0]                  \n",
      "==================================================================================================\n",
      "Total params: 78,266\n",
      "Trainable params: 78,266\n",
      "Non-trainable params: 0\n",
      "__________________________________________________________________________________________________\n"
     ]
    }
   ],
   "source": [
    "input_shape = (256,8,1) # (nfft,n_lookback,n_channels)\n",
    "filters = [32,32,32]\n",
    "layers = 3\n",
    "kernel_size = [3,3]\n",
    "pool_size = [2,2]\n",
    "intermediate = 16\n",
    "latent_dim = 50\n",
    "n_classes = 8\n",
    "\n",
    "inputs = Input(shape=input_shape)\n",
    "x = inputs\n",
    "for i in range(layers):\n",
    "    x = Conv2D(filters[i],\n",
    "               kernel_size=kernel_size,\n",
    "               activation='relu',\n",
    "               padding='same')(x)\n",
    "    x = MaxPool2D(pool_size=pool_size)(x)\n",
    "\n",
    "\n",
    "# shape info needed to build decoder model\n",
    "shape = K.int_shape(x)\n",
    "\n",
    "x = Flatten()(x)\n",
    "# generate latent vector Q(z|X)\n",
    "features = Dense(latent_dim, activation='linear',name='features')(x)\n",
    "classes = Dense(n_classes, activation='softmax',name='classes')(x)\n",
    "\n",
    "# no reparameterization trick here, since we will get the distribution\n",
    "#   through adversarial training against a stocastic process we don't\n",
    "#   need to sample here\n",
    "\n",
    "encoder = Model(inputs, [features,classes], name='encoder')\n",
    "encoder.summary()"
   ]
  },
  {
   "cell_type": "code",
   "execution_count": 19,
   "metadata": {},
   "outputs": [
    {
     "data": {
      "text/plain": [
       "(None, 32, 1, 32)"
      ]
     },
     "execution_count": 19,
     "metadata": {},
     "output_type": "execute_result"
    }
   ],
   "source": []
  },
  {
   "cell_type": "code",
   "execution_count": 23,
   "metadata": {},
   "outputs": [
    {
     "name": "stdout",
     "output_type": "stream",
     "text": [
      "_________________________________________________________________\n",
      "Layer (type)                 Output Shape              Param #   \n",
      "=================================================================\n",
      "decoder_input (InputLayer)   (None, 58)                0         \n",
      "_________________________________________________________________\n",
      "dense_11 (Dense)             (None, 1024)              60416     \n",
      "_________________________________________________________________\n",
      "reshape_3 (Reshape)          (None, 32, 1, 32)         0         \n",
      "_________________________________________________________________\n",
      "conv2d_36 (Conv2D)           (None, 32, 1, 32)         9248      \n",
      "_________________________________________________________________\n",
      "up_sampling2d_5 (UpSampling2 (None, 64, 2, 32)         0         \n",
      "_________________________________________________________________\n",
      "conv2d_37 (Conv2D)           (None, 64, 2, 64)         18496     \n",
      "_________________________________________________________________\n",
      "up_sampling2d_6 (UpSampling2 (None, 128, 4, 64)        0         \n",
      "_________________________________________________________________\n",
      "conv2d_38 (Conv2D)           (None, 128, 4, 64)        36928     \n",
      "_________________________________________________________________\n",
      "up_sampling2d_7 (UpSampling2 (None, 256, 8, 64)        0         \n",
      "_________________________________________________________________\n",
      "decoder_output (Conv2D)      (None, 256, 8, 1)         577       \n",
      "=================================================================\n",
      "Total params: 125,665\n",
      "Trainable params: 125,665\n",
      "Non-trainable params: 0\n",
      "_________________________________________________________________\n"
     ]
    }
   ],
   "source": [
    "filters = [32,64,64]\n",
    "upsampling_size = pool_size\n",
    "\n",
    "latent_inputs = Input(shape=(latent_dim+n_classes,), name='decoder_input')\n",
    "x = Dense(shape[1] * shape[2] * shape[3], activation='relu')(latent_inputs)\n",
    "x = Reshape((shape[1], shape[2], shape[3]))(x)\n",
    "\n",
    "for i in range(layers):\n",
    "    x = Conv2D(filters=filters[i],\n",
    "               kernel_size=kernel_size,\n",
    "               activation='relu',\n",
    "               padding='same')(x)\n",
    "    x = UpSampling2D(size=upsampling_size)(x)\n",
    "\n",
    "x = Conv2D(filters=1,\n",
    "           kernel_size=kernel_size,\n",
    "           activation='relu',\n",
    "           padding='same',\n",
    "           name='decoder_output')(x)\n",
    "\n",
    "outputs=x\n",
    "\n",
    "decoder = Model(latent_inputs,outputs)\n",
    "decoder.summary()"
   ]
  },
  {
   "cell_type": "markdown",
   "metadata": {},
   "source": [
    "Build the discriminators"
   ]
  },
  {
   "cell_type": "code",
   "execution_count": 35,
   "metadata": {},
   "outputs": [
    {
     "name": "stdout",
     "output_type": "stream",
     "text": [
      "_________________________________________________________________\n",
      "Layer (type)                 Output Shape              Param #   \n",
      "=================================================================\n",
      "disc_input (InputLayer)      (None, 50)                0         \n",
      "_________________________________________________________________\n",
      "dense_21 (Dense)             (None, 256)               13056     \n",
      "_________________________________________________________________\n",
      "dense_22 (Dense)             (None, 256)               65792     \n",
      "_________________________________________________________________\n",
      "dense_23 (Dense)             (None, 1)                 257       \n",
      "=================================================================\n",
      "Total params: 79,105\n",
      "Trainable params: 79,105\n",
      "Non-trainable params: 0\n",
      "_________________________________________________________________\n"
     ]
    }
   ],
   "source": [
    "disc_dim = 256\n",
    "feat_disc_inputs = Input(shape=(latent_dim,), name='disc_input')\n",
    "x = feat_disc_inputs\n",
    "x = Dense(disc_dim, activation='relu')(x)\n",
    "x = Dense(disc_dim, activation='relu')(x)\n",
    "feat_disc_outputs = Dense(1,activation='sigmoid')(x)\n",
    "\n",
    "feat_disc = Model(feat_disc_inputs,feat_disc_outputs,name='feat_disc')\n",
    "feat_disc.compile(optimizer=Adam(lr=1e-4), \n",
    "                      loss=\"binary_crossentropy\")\n",
    "feat_disc.summary()"
   ]
  },
  {
   "cell_type": "code",
   "execution_count": 36,
   "metadata": {},
   "outputs": [
    {
     "name": "stdout",
     "output_type": "stream",
     "text": [
      "_________________________________________________________________\n",
      "Layer (type)                 Output Shape              Param #   \n",
      "=================================================================\n",
      "disc_input (InputLayer)      (None, 8)                 0         \n",
      "_________________________________________________________________\n",
      "dense_24 (Dense)             (None, 256)               2304      \n",
      "_________________________________________________________________\n",
      "dense_25 (Dense)             (None, 256)               65792     \n",
      "_________________________________________________________________\n",
      "dense_26 (Dense)             (None, 1)                 257       \n",
      "=================================================================\n",
      "Total params: 68,353\n",
      "Trainable params: 68,353\n",
      "Non-trainable params: 0\n",
      "_________________________________________________________________\n"
     ]
    }
   ],
   "source": [
    "disc_dim = 256\n",
    "class_disc_inputs = Input(shape=(n_classes,), name='disc_input')\n",
    "x = class_disc_inputs\n",
    "x = Dense(disc_dim, activation='relu')(x)\n",
    "x = Dense(disc_dim, activation='relu')(x)\n",
    "class_disc_outputs = Dense(1,activation='sigmoid')(x)\n",
    "\n",
    "class_disc = Model(class_disc_inputs,class_disc_outputs,name='class_disc')\n",
    "class_disc.compile(optimizer=Adam(lr=1e-4), \n",
    "                      loss=\"binary_crossentropy\")\n",
    "class_disc.summary()"
   ]
  },
  {
   "cell_type": "markdown",
   "metadata": {},
   "source": [
    "Define composite models"
   ]
  },
  {
   "cell_type": "code",
   "execution_count": 37,
   "metadata": {
    "scrolled": true
   },
   "outputs": [
    {
     "name": "stdout",
     "output_type": "stream",
     "text": [
      "__________________________________________________________________________________________________\n",
      "Layer (type)                    Output Shape         Param #     Connected to                     \n",
      "==================================================================================================\n",
      "input_13 (InputLayer)           (None, 256, 8, 1)    0                                            \n",
      "__________________________________________________________________________________________________\n",
      "encoder (Model)                 [(None, 50), (None,  78266       input_13[0][0]                   \n",
      "__________________________________________________________________________________________________\n",
      "concatenate_3 (Concatenate)     (None, 58)           0           encoder[5][0]                    \n",
      "                                                                 encoder[5][1]                    \n",
      "__________________________________________________________________________________________________\n",
      "model_1 (Model)                 (None, 256, 8, 1)    125665      concatenate_3[0][0]              \n",
      "==================================================================================================\n",
      "Total params: 203,931\n",
      "Trainable params: 203,931\n",
      "Non-trainable params: 0\n",
      "__________________________________________________________________________________________________\n"
     ]
    }
   ],
   "source": [
    "outputs = decoder(Concatenate(axis=-1)(encoder(inputs)))\n",
    "ae = Model(inputs, outputs, name='ae')\n",
    "ae.compile(optimizer=Adam(lr=1e-4), \n",
    "           loss=\"binary_crossentropy\")\n",
    "ae.summary()"
   ]
  },
  {
   "cell_type": "code",
   "execution_count": 38,
   "metadata": {},
   "outputs": [
    {
     "name": "stdout",
     "output_type": "stream",
     "text": [
      "_________________________________________________________________\n",
      "Layer (type)                 Output Shape              Param #   \n",
      "=================================================================\n",
      "input_13 (InputLayer)        (None, 256, 8, 1)         0         \n",
      "_________________________________________________________________\n",
      "encoder (Model)              [(None, 50), (None, 8)]   78266     \n",
      "_________________________________________________________________\n",
      "feat_disc (Model)            (None, 1)                 79105     \n",
      "=================================================================\n",
      "Total params: 157,371\n",
      "Trainable params: 157,371\n",
      "Non-trainable params: 0\n",
      "_________________________________________________________________\n"
     ]
    }
   ],
   "source": [
    "feat_disc_output = feat_disc(encoder(inputs)[0])\n",
    "enc_feat_disc = Model(inputs,feat_disc_output,name='enc_feat_disc')\n",
    "enc_feat_disc.compile(optimizer=Adam(lr=1e-4), \n",
    "                      loss=\"binary_crossentropy\")\n",
    "enc_feat_disc.summary()"
   ]
  },
  {
   "cell_type": "code",
   "execution_count": 40,
   "metadata": {},
   "outputs": [
    {
     "name": "stdout",
     "output_type": "stream",
     "text": [
      "_________________________________________________________________\n",
      "Layer (type)                 Output Shape              Param #   \n",
      "=================================================================\n",
      "input_13 (InputLayer)        (None, 256, 8, 1)         0         \n",
      "_________________________________________________________________\n",
      "encoder (Model)              [(None, 50), (None, 8)]   78266     \n",
      "_________________________________________________________________\n",
      "class_disc (Model)           (None, 1)                 68353     \n",
      "=================================================================\n",
      "Total params: 146,619\n",
      "Trainable params: 146,619\n",
      "Non-trainable params: 0\n",
      "_________________________________________________________________\n"
     ]
    }
   ],
   "source": [
    "class_disc_output = class_disc(encoder(inputs)[1])\n",
    "enc_class_disc = Model(inputs,class_disc_output,name='enc_class_disc')\n",
    "enc_class_disc.compile(optimizer=Adam(lr=1e-4), \n",
    "                      loss=\"binary_crossentropy\")\n",
    "enc_class_disc.summary()"
   ]
  },
  {
   "cell_type": "markdown",
   "metadata": {},
   "source": [
    "define sampling procedures for the latent feature and class distributions"
   ]
  },
  {
   "cell_type": "code",
   "execution_count": 52,
   "metadata": {},
   "outputs": [],
   "source": [
    "def sample_classes(labels,n_classes=None):\n",
    "    if n_classes == None:\n",
    "        n_classes = np.max(labels)\n",
    "    ulabel = labels == -1\n",
    "    labels[ulabel] = np.random.randint(0,n_classes,np.sum(ulabel))\n",
    "    return labels\n",
    "\n",
    "def sample_features(n_samples,n_dimensions):\n",
    "    return np.random.multivariate_normal(np.zeros(n_dimensions),np.eye(n_dimensions),n_samples)"
   ]
  },
  {
   "cell_type": "code",
   "execution_count": 8,
   "metadata": {},
   "outputs": [],
   "source": [
    "n_samples = 10000\n",
    "X = np.random.uniform(0,1,(n_samples,)+input_shape)\n",
    "X_train, X_test = train_test_split(X,train_size=0.5)"
   ]
  },
  {
   "cell_type": "code",
   "execution_count": 9,
   "metadata": {},
   "outputs": [
    {
     "name": "stdout",
     "output_type": "stream",
     "text": [
      "WARNING:tensorflow:From /usr/local/lib/python3.6/dist-packages/tensorflow/python/ops/math_ops.py:3066: to_int32 (from tensorflow.python.ops.math_ops) is deprecated and will be removed in a future version.\n",
      "Instructions for updating:\n",
      "Use tf.cast instead.\n"
     ]
    },
    {
     "name": "stderr",
     "output_type": "stream",
     "text": [
      "/usr/local/lib/python3.6/dist-packages/keras/engine/training.py:490: UserWarning: Discrepancy between trainable weights and collected trainable weights, did you set `model.trainable` without calling `model.compile` after ?\n",
      "  'Discrepancy between trainable weights and collected trainable'\n"
     ]
    },
    {
     "name": "stdout",
     "output_type": "stream",
     "text": [
      "Reconstruction Loss: 2.991969310506185\n",
      "Adversarial Loss: 0.6893415473620097\n",
      "Reconstruction Loss: 2.715244542312622\n",
      "Adversarial Loss: 0.6873656316121419\n",
      "Reconstruction Loss: 2.562117127609253\n",
      "Adversarial Loss: 0.6854145938555399\n",
      "Reconstruction Loss: 2.4570766058603923\n",
      "Adversarial Loss: 0.6833689728101094\n",
      "Reconstruction Loss: 2.3773221271514893\n",
      "Adversarial Loss: 0.6812911276181539\n",
      "Reconstruction Loss: 2.3129668285369873\n",
      "Adversarial Loss: 0.6791802398999532\n",
      "Reconstruction Loss: 2.2588912197113036\n",
      "Adversarial Loss: 0.677025761381785\n"
     ]
    }
   ],
   "source": [
    "epochs = 1\n",
    "batch_size = 1000\n",
    "for i_epoch in range(epochs):\n",
    "    np.random.shuffle(X_train)\n",
    "    \n",
    "    for i_batch in range(int(X_train.shape[0]/batch_size)):\n",
    "        settrainable(ae, True)\n",
    "        settrainable(encoder, True)\n",
    "        settrainable(decoder, True)\n",
    "        \n",
    "        batch = X_train[i_batch*batch_size:(i_batch+1)*batch_size]\n",
    " \n",
    "        # first train the autoencoder\n",
    "        ae.train_on_batch(batch,batch)\n",
    "        \n",
    "        settrainable(discriminator, True)\n",
    "        batchpred = encoder.predict(batch)\n",
    "        fakepred = np.random.normal(0,1,(batch_size,latent_dim,))\n",
    "        \n",
    "        # now train the discriminator giving it ones for true, and \n",
    "        #     zeros for fake\n",
    "        discbatch_x = np.concatenate([batchpred,fakepred])\n",
    "        discbatch_y = np.concatenate([np.ones(batch_size),\n",
    "                                      np.zeros(batch_size)])\n",
    "        discriminator.train_on_batch(discbatch_x,discbatch_y)\n",
    "        \n",
    "        # now train the encoder descriminator but only update the \n",
    "        #     encoder weights and try to fool the discriminator\n",
    "        settrainable(enc_disc, True)\n",
    "        settrainable(encoder, True)\n",
    "        settrainable(discriminator, False)\n",
    "        enc_disc.train_on_batch(batch, np.ones(batch_size))\n",
    "        \n",
    "        print(\"Reconstruction Loss:\", \n",
    "                  ae.evaluate(X_train, X_train, verbose=0))\n",
    "        print(\"Adversarial Loss:\", \n",
    "                  enc_disc.evaluate(X_train, \n",
    "                                    np.ones(X_train.shape[0]),\n",
    "                                    verbose=0))"
   ]
  },
  {
   "cell_type": "code",
   "execution_count": 9,
   "metadata": {},
   "outputs": [],
   "source": [
    "ae.save('./autoencoder.h5')"
   ]
  },
  {
   "cell_type": "code",
   "execution_count": null,
   "metadata": {},
   "outputs": [],
   "source": []
  }
 ],
 "metadata": {
  "kernelspec": {
   "display_name": "Python 3",
   "language": "python",
   "name": "python3"
  },
  "language_info": {
   "codemirror_mode": {
    "name": "ipython",
    "version": 3
   },
   "file_extension": ".py",
   "mimetype": "text/x-python",
   "name": "python",
   "nbconvert_exporter": "python",
   "pygments_lexer": "ipython3",
   "version": "3.6.7"
  }
 },
 "nbformat": 4,
 "nbformat_minor": 2
}
