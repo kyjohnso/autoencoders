{
 "cells": [
  {
   "cell_type": "code",
   "execution_count": 1,
   "metadata": {},
   "outputs": [],
   "source": [
    "import tensorflow as tf\n",
    "import numpy as np"
   ]
  },
  {
   "cell_type": "code",
   "execution_count": 2,
   "metadata": {},
   "outputs": [],
   "source": [
    "input_shape = 32\n",
    "latent_shape = 8"
   ]
  },
  {
   "cell_type": "code",
   "execution_count": 3,
   "metadata": {},
   "outputs": [],
   "source": [
    "class Autoencoder:\n",
    "    def __init__(self, input_shape, latent_shape):\n",
    "        self.X = tf.placeholder(tf.float32, \n",
    "                                shape=(None,input_shape),name = 'X')\n",
    "        self.W1 = tf.Variable(\n",
    "                    tf.random_normal(shape=(input_shape,latent_shape)))\n",
    "        self.b1 = tf.Variable(\n",
    "                    np.zeros(latent_shape).astype(np.float32))\n",
    "\n",
    "        self.W2 = tf.Variable(\n",
    "                    tf.random_normal(shape=(latent_shape,input_shape)))\n",
    "        self.b2 = tf.Variable(\n",
    "                    np.zeros(input_shape).astype(np.float32))\n",
    "\n",
    "        self.Z = tf.nn.relu(tf.matmul(self.X, self.W1) + self.b1)\n",
    "        logits = tf.matmul(self.Z, self.W2) + self.b2\n",
    "\n",
    "        self.X_hat = tf.nn.sigmoid(logits)\n",
    "\n",
    "        self.loss = tf.reduce_sum(\n",
    "                        tf.nn.sigmoid_cross_entropy_with_logits(\n",
    "                        labels = self.X,\n",
    "                        logits = logits\n",
    "                        )\n",
    "                    )\n",
    "\n",
    "        self.optimizer = tf.train.RMSPropOptimizer(learning_rate=0.005\n",
    "                                                  ).minimize(self.loss)\n",
    "        self.init_op = tf.global_variables_initializer()\n",
    "        self.sess = tf.get_default_session()\n",
    "        if(self.sess == None):\n",
    "            self.sess = tf.Session()\n",
    "        self.sess.run(self.init_op)\n",
    "        \n",
    "    def fit(self, X, epochs=10, bs=64):\n",
    "        n_batches = X.shape[0] // bs\n",
    "        print(\"Training {} batches\".format(n_batches))\n",
    "        \n",
    "        for i in range(epochs):\n",
    "            print(\"Epoch: {}\".format(i))\n",
    "            X_perm = np.random.permutation(X)\n",
    "            for j in range(n_batches):\n",
    "                batch = X_perm[j*bs:(j+1)*bs]\n",
    "                _, _ = self.sess.run((self.optimizer, self.loss),\n",
    "                                      feed_dict={self.X: batch})\n",
    "    \n",
    "    def save(self,export_dir='./'):\n",
    "        tf.saved_model.simple_save(self.sess,\n",
    "                                   export_dir,\n",
    "                                   inputs={\"X\":self.X},\n",
    "                                   outputs={\"X_hat\":self.X_hat})\n",
    "    \n",
    "    def predict(self, X):\n",
    "        return self.sess.run(self.X_hat, feed_dict={self.X: X})\n",
    "    \n",
    "    def encoder(self, X):\n",
    "        return self.sess.run(self.Z, feed_dict={self.X: X})\n",
    "    \n",
    "    def decode(self, Z):\n",
    "        return self.sess.run(self.X_hat, feed_dict={self.Z: Z})\n",
    "    \n",
    "    def terminate(self):\n",
    "        self.sess.close()\n",
    "        del self.sess"
   ]
  },
  {
   "cell_type": "code",
   "execution_count": 4,
   "metadata": {},
   "outputs": [
    {
     "name": "stderr",
     "output_type": "stream",
     "text": [
      "WARNING: Logging before flag parsing goes to stderr.\n",
      "W0729 21:44:42.715497 139786816022336 deprecation.py:323] From /home/kyjohnso/projects/mlirad/autoencoders/venv/lib/python3.6/site-packages/tensorflow/python/ops/nn_impl.py:180: add_dispatch_support.<locals>.wrapper (from tensorflow.python.ops.array_ops) is deprecated and will be removed in a future version.\n",
      "Instructions for updating:\n",
      "Use tf.where in 2.0, which has the same broadcast rule as np.where\n",
      "W0729 21:44:42.781613 139786816022336 deprecation.py:506] From /home/kyjohnso/projects/mlirad/autoencoders/venv/lib/python3.6/site-packages/tensorflow/python/training/rmsprop.py:119: calling Ones.__init__ (from tensorflow.python.ops.init_ops) with dtype is deprecated and will be removed in a future version.\n",
      "Instructions for updating:\n",
      "Call initializer instance with the dtype argument instead of passing it to the constructor\n"
     ]
    }
   ],
   "source": [
    "ae = Autoencoder(input_shape, latent_shape)"
   ]
  },
  {
   "cell_type": "code",
   "execution_count": 56,
   "metadata": {},
   "outputs": [
    {
     "name": "stdout",
     "output_type": "stream",
     "text": [
      "Training 156 batches\n",
      "Epoch: 0\n",
      "Epoch: 1\n",
      "Epoch: 2\n",
      "Epoch: 3\n",
      "Epoch: 4\n",
      "Epoch: 5\n",
      "Epoch: 6\n",
      "Epoch: 7\n",
      "Epoch: 8\n",
      "Epoch: 9\n"
     ]
    }
   ],
   "source": [
    "n_samples = 10000\n",
    "X = np.random.uniform(0,1,(n_samples,input_shape))\n",
    "ae.fit(X)"
   ]
  },
  {
   "cell_type": "code",
   "execution_count": 58,
   "metadata": {},
   "outputs": [
    {
     "name": "stdout",
     "output_type": "stream",
     "text": [
      "(10000, 32)\n"
     ]
    }
   ],
   "source": [
    "print(X.shape)"
   ]
  },
  {
   "cell_type": "code",
   "execution_count": 25,
   "metadata": {},
   "outputs": [],
   "source": [
    "saved_dir = './saved/5/'\n",
    "ae.save(saved_dir)"
   ]
  },
  {
   "cell_type": "code",
   "execution_count": 59,
   "metadata": {},
   "outputs": [],
   "source": [
    "def representative_dataset_gen():\n",
    "    n_samples = 100\n",
    "    for i in range(n_samples):\n",
    "        rep = np.random.uniform(0,1,(1,input_shape))\n",
    "        rep = np.array(rep,dtype=np.float32)\n",
    "        yield [rep]"
   ]
  },
  {
   "cell_type": "code",
   "execution_count": 60,
   "metadata": {},
   "outputs": [],
   "source": [
    "converter = tf.lite.TFLiteConverter.from_saved_model(saved_dir)\n",
    "converter.optimizations = [tf.lite.Optimize.DEFAULT]\n",
    "converter.representative_dataset = representative_dataset_gen\n",
    "converter.target_ops = [tf.lite.OpsSet.TFLITE_BUILTINS_INT8]"
   ]
  },
  {
   "cell_type": "code",
   "execution_count": 64,
   "metadata": {},
   "outputs": [],
   "source": [
    "ae_tflite = converter.convert()"
   ]
  },
  {
   "cell_type": "code",
   "execution_count": 65,
   "metadata": {},
   "outputs": [
    {
     "data": {
      "text/plain": [
       "2200"
      ]
     },
     "execution_count": 65,
     "metadata": {},
     "output_type": "execute_result"
    }
   ],
   "source": [
    "open(\"./ae_tflite.tflite\",\"wb\").write(ae_tflite)"
   ]
  },
  {
   "cell_type": "code",
   "execution_count": null,
   "metadata": {},
   "outputs": [],
   "source": []
  }
 ],
 "metadata": {
  "kernelspec": {
   "display_name": "Python 3",
   "language": "python",
   "name": "python3"
  },
  "language_info": {
   "codemirror_mode": {
    "name": "ipython",
    "version": 3
   },
   "file_extension": ".py",
   "mimetype": "text/x-python",
   "name": "python",
   "nbconvert_exporter": "python",
   "pygments_lexer": "ipython3",
   "version": "3.6.8"
  }
 },
 "nbformat": 4,
 "nbformat_minor": 2
}
